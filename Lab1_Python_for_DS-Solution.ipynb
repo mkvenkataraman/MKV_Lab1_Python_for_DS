{
 "cells": [
  {
   "cell_type": "markdown",
   "id": "2c8f47d3",
   "metadata": {
    "id": "2c8f47d3"
   },
   "source": [
    "# Lab Session"
   ]
  },
  {
   "cell_type": "markdown",
   "id": "f637aba6",
   "metadata": {
    "id": "f637aba6"
   },
   "source": [
    "## <font color='blue'> Table Of Contents </font>\n",
    "- Problem Statement\n",
    "- Load required libraries\n",
    "- Connect to DB using mysql-connector-python package\n",
    "- Create database named `e_commerce`\n",
    "- Create tables and insert data into tables as specified in the question\n",
    "- Read all the questions and write sql queries to meet the objective"
   ]
  },
  {
   "cell_type": "markdown",
   "id": "1073fc90",
   "metadata": {
    "id": "1073fc90"
   },
   "source": [
    "## <font color='blue'> Problem Statement </font>\n",
    "###  An E-commerce website manages its data in the form of various tables.\n",
    "You need to create a Database called `e_commerce` and various tables in it. The tables needed and attributes which need to be in every table are given before hand. All you have to do is create tables with data in it and answer some of the questions that follows."
   ]
  },
  {
   "cell_type": "markdown",
   "id": "d9abe6c7",
   "metadata": {
    "id": "d9abe6c7"
   },
   "source": [
    "### Load Required Libraries"
   ]
  },
  {
   "cell_type": "code",
   "execution_count": 4,
   "id": "0178d08e",
   "metadata": {
    "id": "0178d08e"
   },
   "outputs": [],
   "source": [
    "#Load required libraries\n",
    "import pymysql\n",
    "import pandas as pd"
   ]
  },
  {
   "cell_type": "markdown",
   "id": "d7d7fd5c",
   "metadata": {
    "id": "d7d7fd5c"
   },
   "source": [
    "### Connect to DB using Mysql-connector-python package"
   ]
  },
  {
   "cell_type": "code",
   "execution_count": 5,
   "id": "ef7bef72",
   "metadata": {
    "id": "ef7bef72"
   },
   "outputs": [
    {
     "name": "stdout",
     "output_type": "stream",
     "text": [
      "<pymysql.connections.Connection object at 0x000002113B81B3D0>\n"
     ]
    }
   ],
   "source": [
    "# Step 1: Connect to MySQL server (without specifying database)\n",
    "connection = pymysql.connect(\n",
    "    host='localhost', \n",
    "    user='root',\n",
    "    passwd='root'\n",
    ")\n",
    "\n",
    "# Step 2: create cursor object\n",
    "cursorObject = connection.cursor()\n",
    "\n",
    "# Step 3: print connection to ensure that the local host MySQL is connected \n",
    "print(connection)\n",
    "\n",
    "# Step 4: close the connection\n",
    "connection.close()"
   ]
  },
  {
   "cell_type": "markdown",
   "id": "9d55e510",
   "metadata": {
    "id": "9d55e510"
   },
   "source": [
    "### You are required to create a database named 'e_commerce'"
   ]
  },
  {
   "cell_type": "code",
   "execution_count": 6,
   "id": "42a154f2",
   "metadata": {
    "id": "42a154f2"
   },
   "outputs": [
    {
     "data": {
      "text/plain": [
       "0"
      ]
     },
     "execution_count": 6,
     "metadata": {},
     "output_type": "execute_result"
    }
   ],
   "source": [
    "# Step 1: Connect to MySQL server (without specifying database)\n",
    "connection = pymysql.connect(\n",
    "    host='localhost', \n",
    "    user='root',\n",
    "    passwd='root'\n",
    ")\n",
    "\n",
    "# Step 2: create cursor object\n",
    "cursorObject = connection.cursor()\n",
    "\n",
    "# Step 3: create the requisite DB\n",
    "cursorObject.execute(\"CREATE DATABASE IF NOT EXISTS e_commerce\")\n",
    "\n",
    "# Step 4: use the new database\n",
    "cursorObject.execute(\"USE e_commerce\")"
   ]
  },
  {
   "cell_type": "markdown",
   "id": "480dc986",
   "metadata": {
    "id": "480dc986"
   },
   "source": [
    "### Q1. Create tables for supplier, customer, category, product, productDetails, order, rating to store the data for the E-commerce with the schema definition given below.\n",
    "\n",
    "\n",
    "- **`supplier`**(SUPP_ID int primary key, SUPP_NAME varchar(50), SUPP_CITY varchar(50), SUPP_PHONE varchar(10))\n",
    "\n",
    "\n",
    "- **`customer`** (CUS_ID INT NOT NULL, CUS_NAME VARCHAR(20) NULL DEFAULT NULL, CUS_PHONE VARCHAR(10), CUS_CITY varchar(30) ,CUS_GENDER CHAR,PRIMARY KEY (CUS_ID))\n",
    "\n",
    "\n",
    "- **`category`** (CAT_ID INT NOT NULL, CAT_NAME VARCHAR(20) NULL DEFAULT NULL,PRIMARY KEY (CAT_ID))\n",
    "\n",
    "\n",
    "- **`product`** (PRO_ID INT NOT NULL, PRO_NAME VARCHAR(20) NULL DEFAULT NULL, PRO_DESC VARCHAR(60) NULL DEFAULT NULL, CAT_ID INT NOT NULL,PRIMARY KEY (PRO_ID),FOREIGN KEY (CAT_ID) REFERENCES CATEGORY (CAT_ID))\n",
    "\n",
    "\n",
    "- **`product_details`** (PROD_ID INT NOT NULL, PRO_ID INT NOT NULL, SUPP_ID INT NOT NULL, PROD_PRICE INT NOT NULL,\n",
    "  PRIMARY KEY (PROD_ID),FOREIGN KEY (PRO_ID) REFERENCES PRODUCT (PRO_ID), FOREIGN KEY (SUPP_ID) REFERENCES SUPPLIER(SUPP_ID))\n",
    "  \n",
    "  \n",
    "- **`order`** (ORD_ID INT NOT NULL, ORD_AMOUNT INT NOT NULL, ORD_DATE DATE, CUS_ID INT NOT NULL, PROD_ID INT NOT NULL,PRIMARY KEY (ORD_ID),FOREIGN KEY (CUS_ID) REFERENCES CUSTOMER(CUS_ID),FOREIGN KEY (PROD_ID) REFERENCES PRODUCT_DETAILS(PROD_ID))\n",
    "\n",
    "\n",
    "- **`rating`** (RAT_ID INT NOT NULL, CUS_ID INT NOT NULL, SUPP_ID INT NOT NULL, RAT_RATSTARS INT NOT NULL,PRIMARY KEY (RAT_ID),FOREIGN KEY (SUPP_ID) REFERENCES SUPPLIER (SUPP_ID),FOREIGN KEY (CUS_ID) REFERENCES CUSTOMER(CUS_ID))"
   ]
  },
  {
   "cell_type": "code",
   "execution_count": 8,
   "id": "967b718f",
   "metadata": {
    "id": "967b718f"
   },
   "outputs": [],
   "source": [
    "# Step 1: Establishing the connection to the MySQL server\n",
    "connection = pymysql.connect(\n",
    "    host='localhost',\n",
    "    user='root',\n",
    "    password='root',\n",
    "    database='e_commerce'\n",
    ")"
   ]
  },
  {
   "cell_type": "code",
   "execution_count": 9,
   "id": "eda83184-a9a1-4efd-a00d-198a2ec804e5",
   "metadata": {},
   "outputs": [],
   "source": [
    "# Step 2: Creating the tables as per the given schema\n",
    "with connection.cursor() as cursor:\n",
    "\n",
    "    # Category Table\n",
    "    create_category_table = \"\"\"\n",
    "    CREATE TABLE IF NOT EXISTS category (\n",
    "        CAT_ID INT NOT NULL,\n",
    "        CAT_NAME VARCHAR(20) NULL DEFAULT NULL,\n",
    "        PRIMARY KEY (CAT_ID)\n",
    "    );\n",
    "    \"\"\"\n",
    "    cursor.execute(create_category_table)\n",
    "\n",
    "    # Supplier Table\n",
    "    create_supplier_table = \"\"\"\n",
    "    CREATE TABLE IF NOT EXISTS supplier (\n",
    "        SUPP_ID INT PRIMARY KEY,\n",
    "        SUPP_NAME VARCHAR(50),\n",
    "        SUPP_CITY VARCHAR(50),\n",
    "        SUPP_PHONE VARCHAR(10)\n",
    "    );\n",
    "    \"\"\"\n",
    "    cursor.execute(create_supplier_table)\n",
    "\n",
    "    # Product Table\n",
    "    create_product_table = \"\"\"\n",
    "    CREATE TABLE IF NOT EXISTS product (\n",
    "        PRO_ID INT NOT NULL,\n",
    "        PRO_NAME VARCHAR(20) NULL DEFAULT NULL,\n",
    "        PRO_DESC VARCHAR(60) NULL DEFAULT NULL,\n",
    "        CAT_ID INT NOT NULL,\n",
    "        PRIMARY KEY (PRO_ID),\n",
    "        FOREIGN KEY (CAT_ID) REFERENCES category(CAT_ID)\n",
    "    );\n",
    "    \"\"\"\n",
    "    cursor.execute(create_product_table)\n",
    "\n",
    "    # Product Details Table\n",
    "    create_productdetails_table = \"\"\"\n",
    "    CREATE TABLE IF NOT EXISTS product_details (\n",
    "        PROD_ID INT NOT NULL,\n",
    "        PRO_ID INT NOT NULL,\n",
    "        SUPP_ID INT NOT NULL,\n",
    "        PROD_PRICE INT NOT NULL,\n",
    "        PRIMARY KEY (PROD_ID),\n",
    "        FOREIGN KEY (PRO_ID) REFERENCES product(PRO_ID),\n",
    "        FOREIGN KEY (SUPP_ID) REFERENCES supplier(SUPP_ID)\n",
    "    );\n",
    "    \"\"\"\n",
    "    cursor.execute(create_productdetails_table)\n",
    "\n",
    "    # Customer Table\n",
    "    create_customer_table = \"\"\"\n",
    "    CREATE TABLE IF NOT EXISTS customer (\n",
    "        CUS_ID INT NOT NULL,\n",
    "        CUS_NAME VARCHAR(20) NULL DEFAULT NULL,\n",
    "        CUS_PHONE VARCHAR(10),\n",
    "        CUS_CITY VARCHAR(30),\n",
    "        CUS_GENDER CHAR,\n",
    "        PRIMARY KEY (CUS_ID)\n",
    "    );\n",
    "    \"\"\"\n",
    "    cursor.execute(create_customer_table)\n",
    "\n",
    "    # Orders Table\n",
    "    create_orders_table = \"\"\"\n",
    "    CREATE TABLE IF NOT EXISTS orders (\n",
    "        ORD_ID INT NOT NULL,\n",
    "        ORD_AMOUNT INT NOT NULL,\n",
    "        ORD_DATE DATE,\n",
    "        CUS_ID INT NOT NULL,\n",
    "        PROD_ID INT NOT NULL,\n",
    "        PRIMARY KEY (ORD_ID),\n",
    "        FOREIGN KEY (CUS_ID) REFERENCES customer(CUS_ID),\n",
    "        FOREIGN KEY (PROD_ID) REFERENCES product_details(PROD_ID)\n",
    "    );\n",
    "    \"\"\"\n",
    "    cursor.execute(create_orders_table)\n",
    "\n",
    "    # Rating Table\n",
    "    create_rating_table = \"\"\"\n",
    "    CREATE TABLE IF NOT EXISTS rating (\n",
    "        RAT_ID INT NOT NULL,\n",
    "        CUS_ID INT NOT NULL,\n",
    "        SUPP_ID INT NOT NULL,\n",
    "        RAT_RATSTARS INT NOT NULL,\n",
    "        PRIMARY KEY (RAT_ID),\n",
    "        FOREIGN KEY (SUPP_ID) REFERENCES supplier(SUPP_ID),\n",
    "        FOREIGN KEY (CUS_ID) REFERENCES customer(CUS_ID)\n",
    "    );\n",
    "    \"\"\"\n",
    "    cursor.execute(create_rating_table)\n",
    "\n",
    "# Committing the changes\n",
    "connection.commit()"
   ]
  },
  {
   "cell_type": "markdown",
   "id": "1f653731",
   "metadata": {
    "id": "1f653731"
   },
   "source": [
    "### Q2. Insert the following data in the table created above\n",
    "#### `Note:` If you are getting any error while inserting the data into tables, Kindly close the connection and reconnect\n",
    "\n",
    "#### Table:  supplier\n",
    "| SUPP_ID | SUPP_NAME | SUPP_CITY | SUPP_PHONE |\n",
    "| --- | --- | --- | --- |\n",
    "| 1 | Rajesh Retails | Delhi | 1234567890 |\n",
    "| 2 | Appario Ltd. | Mumbai | 258963147032 |\n",
    "| 3 | Knome products | Bangalore | 9785462315 |\n",
    "| 4 | Bansal Retails | Kochi | 8975463285 |\n",
    "| 5 | Mittal Ltd. | Lucknow | 7898456532 |"
   ]
  },
  {
   "cell_type": "code",
   "execution_count": 10,
   "id": "f6dddd07",
   "metadata": {
    "id": "f6dddd07"
   },
   "outputs": [],
   "source": [
    "# insert into \"supplier\" table\n",
    "\n",
    "# Insert supplier details\n",
    "insert_supplier_details = \"\"\"\n",
    "INSERT INTO supplier (SUPP_ID, SUPP_NAME, SUPP_CITY, SUPP_PHONE) \n",
    "VALUES (%s, %s, %s, %s)\n",
    "\"\"\"\n",
    "\n",
    "val = [\n",
    "    (1, 'Rajesh Retails', 'Delhi', '1234567890'),\n",
    "    (2, 'Appario Ltd.', 'Mumbai', '2589631470'),\n",
    "    (3, 'Knome products', 'Bangalore', '9785462315'),\n",
    "    (4, 'Bansal Retails', 'Kochi', '8975463285'),\n",
    "    (5, 'Mittal Ltd.', 'Lucknow', '7898456532')\n",
    "]\n",
    "\n",
    "with connection.cursor() as cursor:\n",
    "    cursor.executemany(insert_supplier_details, val)\n",
    "\n",
    "# Committing the changes\n",
    "connection.commit()"
   ]
  },
  {
   "cell_type": "markdown",
   "id": "e8a070a6",
   "metadata": {
    "id": "e8a070a6"
   },
   "source": [
    "#### Table:  customer\n",
    "| CUS_ID | CUS_NAME | SUPP_PHONE | CUS_CITY | CUS_GENDER\n",
    "| --- | --- | --- | --- | --- |\n",
    "| 1 | AAKASH | 9999999999 | DELHI | M |\n",
    "| 2 | AMAN | 9785463215 | NOIDA | M |\n",
    "| 3 | NEHA | 9999999998 | MUMBAI | F |\n",
    "| 4 | MEGHA | 9994562399 | KOLKATA | F |\n",
    "| 5 | PULKIT | 7895999999 | LUCKNOW | M |"
   ]
  },
  {
   "cell_type": "code",
   "execution_count": 11,
   "id": "15a4ee87",
   "metadata": {
    "id": "15a4ee87"
   },
   "outputs": [],
   "source": [
    "# insert into \"customer\" table\n",
    "\n",
    "# Insert customer details\n",
    "insert_customer_details = \"\"\"\n",
    "INSERT INTO customer (CUS_ID, CUS_NAME, CUS_PHONE, CUS_CITY, CUS_GENDER) \n",
    "VALUES (%s, %s, %s, %s, %s)\n",
    "\"\"\"\n",
    "\n",
    "val = [\n",
    "    (1, 'AAKASH', '9999999999', 'DELHI', 'M'),\n",
    "    (2, 'AMAN', '9785463215', 'NOIDA', 'M'),\n",
    "    (3, 'NEHA', '9999999998', 'MUMBAI', 'F'),\n",
    "    (4, 'MEGHA', '9994562399', 'KOLKATA', 'F'),\n",
    "    (5, 'PULKIT', '7895999999', 'LUCKNOW', 'M')\n",
    "]\n",
    "\n",
    "with connection.cursor() as cursor:\n",
    "    cursor.executemany(insert_customer_details, val)\n",
    "\n",
    "# Committing the changes\n",
    "connection.commit()"
   ]
  },
  {
   "cell_type": "markdown",
   "id": "b68bfbc2",
   "metadata": {
    "id": "b68bfbc2"
   },
   "source": [
    "#### Table:  category\n",
    "| CAT_ID | CAT_NAME |\n",
    "| --- | --- |  \n",
    "| 1 | BOOKS |\n",
    "| 2 | GAMES |  \n",
    "| 3 | GROCERIES |\n",
    "| 4 | ELECTRONICS |\n",
    "| 5 | CLOTHES |"
   ]
  },
  {
   "cell_type": "code",
   "execution_count": 12,
   "id": "05a00abc",
   "metadata": {
    "id": "05a00abc"
   },
   "outputs": [],
   "source": [
    "# insert into \"category\" table\n",
    "\n",
    "# Insert category details\n",
    "insert_category_details = \"\"\"\n",
    "INSERT INTO category (CAT_ID, CAT_NAME) \n",
    "VALUES (%s, %s)\n",
    "\"\"\"\n",
    "\n",
    "val = [\n",
    "    (1, 'BOOKS'),\n",
    "    (2, 'GAMES'),\n",
    "    (3, 'GROCERIES'),\n",
    "    (4, 'ELECTRONICS'),\n",
    "    (5, 'CLOTHES')\n",
    "]\n",
    "\n",
    "with connection.cursor() as cursor:\n",
    "    cursor.executemany(insert_category_details, val)\n",
    "\n",
    "# Committing the changes\n",
    "connection.commit()"
   ]
  },
  {
   "cell_type": "markdown",
   "id": "eb3bc592",
   "metadata": {
    "id": "eb3bc592"
   },
   "source": [
    "#### Table:  product\n",
    "| PRO_ID | PRO_NAME | PRO_DESC | CAT_ID |\n",
    "| --- | --- | --- | --- |\n",
    "| 1 | GTA V | DFJDJFDJFDJFDJFJF | 2 |\n",
    "| 2 | TSHIRT | DFDFJDFJDKFD | 5 |\n",
    "| 3 | ROG LAPTOP | DFNTTNTNTERND | 4 |\n",
    "| 4 | OATS | REURENTBTOTH | 3 |\n",
    "| 5 | HARRY POTTER | NBEMCTHTJTH | 1 |\n"
   ]
  },
  {
   "cell_type": "code",
   "execution_count": 13,
   "id": "cdfbdfad",
   "metadata": {
    "id": "cdfbdfad"
   },
   "outputs": [],
   "source": [
    "# insert into \"product\" table\n",
    "\n",
    "# Insert product details\n",
    "insert_product_details = \"\"\"\n",
    "INSERT INTO product (PRO_ID, PRO_NAME, PRO_DESC, CAT_ID) \n",
    "VALUES (%s, %s, %s, %s)\n",
    "\"\"\"\n",
    "\n",
    "val = [\n",
    "    (1, 'GTA V', 'Adrenaline fueled Stunt Races', 2),\n",
    "    (2, 'TSHIRT', 'Short sleeved casual top', 5),\n",
    "    (3, 'ROG LAPTOP', 'Versatile gaming laptops', 4),\n",
    "    (4, 'OATS', 'A nutrient rich food', 3),\n",
    "    (5, 'HARRY POTTER', 'Series of seven fantasy novels', 1)\n",
    "]\n",
    "\n",
    "with connection.cursor() as cursor:\n",
    "    cursor.executemany(insert_product_details, val)\n",
    "\n",
    "# Committing the changes\n",
    "connection.commit()"
   ]
  },
  {
   "cell_type": "markdown",
   "id": "cfa8a47d",
   "metadata": {
    "id": "cfa8a47d"
   },
   "source": [
    "#### Table:  product_details\n",
    "| PROD_ID | PRO_ID | SUPP_ID | PROD_PRICE |\n",
    "| --- | --- | --- | --- |\n",
    "| 1 | 1 | 2 | 1500 |\n",
    "| 2 | 3 | 5 | 30000 |\n",
    "| 3 | 5 | 1 | 3000 |\n",
    "| 4 | 2 | 3 | 2500 |\n",
    "| 5 | 4 | 1 | 1000 |"
   ]
  },
  {
   "cell_type": "code",
   "execution_count": 14,
   "id": "c18ea964",
   "metadata": {
    "id": "c18ea964"
   },
   "outputs": [],
   "source": [
    "# insert into \"product_details\" table\n",
    "\n",
    "# Insert product details\n",
    "insert_productdetails = \"\"\"\n",
    "INSERT INTO product_details (PROD_ID, PRO_ID, SUPP_ID, PROD_PRICE) \n",
    "VALUES (%s, %s, %s, %s)\n",
    "\"\"\"\n",
    "\n",
    "val = [\n",
    "    (1, 1, 2, 1500),\n",
    "    (2, 3, 5, 30000),\n",
    "    (3, 5, 1, 3000),\n",
    "    (4, 2, 3, 2500),\n",
    "    (5, 4, 1, 1000)\n",
    "]\n",
    "\n",
    "with connection.cursor() as cursor:\n",
    "    cursor.executemany(insert_productdetails, val)\n",
    "\n",
    "# Committing the changes\n",
    "connection.commit()"
   ]
  },
  {
   "cell_type": "markdown",
   "id": "1df49086",
   "metadata": {
    "id": "1df49086"
   },
   "source": [
    "#### Table:  orders\n",
    "| ORD_ID | ORD_AMOUNT | ORD_DATE | CUS_ID | PROD_ID\n",
    "| --- | --- | --- | --- | --- |\n",
    "| 20 | 1500 | 2021-10-12 | 3 | 5 |\n",
    "| 25 | 30500 | 2021-09-16 | 5 | 2 |\n",
    "| 26 | 2000 | 2021-10-05 | 1 | 1 |\n",
    "| 30 | 3500 | 2021-08-16 | 4 | 3 |\n",
    "| 50 | 2000 | 2021-10-06 | 2 | 1 |"
   ]
  },
  {
   "cell_type": "code",
   "execution_count": 15,
   "id": "0d97dc92",
   "metadata": {
    "id": "0d97dc92"
   },
   "outputs": [],
   "source": [
    "# insert into \"orders\" table\n",
    "\n",
    "# Insert order details\n",
    "insert_order_details = \"\"\"\n",
    "INSERT INTO orders (ORD_ID, ORD_AMOUNT, ORD_DATE, CUS_ID, PROD_ID) \n",
    "VALUES (%s, %s, %s, %s, %s)\n",
    "\"\"\"\n",
    "\n",
    "val = [\n",
    "    (20, 1500, '2021-10-12', 3, 5),\n",
    "    (25, 30500, '2021-09-16', 5, 2),\n",
    "    (26, 2000, '2021-10-05', 1, 1),\n",
    "    (30, 3500, '2021-08-16', 4, 3),\n",
    "    (50, 2000, '2021-10-06', 2, 1)\n",
    "]\n",
    "\n",
    "with connection.cursor() as cursor:\n",
    "    cursor.executemany(insert_order_details, val)\n",
    "\n",
    "# Committing the changes\n",
    "connection.commit()"
   ]
  },
  {
   "cell_type": "markdown",
   "id": "75b8ce5f",
   "metadata": {
    "id": "75b8ce5f"
   },
   "source": [
    "#### Table: rating\n",
    "| RAT_ID | CUS_ID | SUPP_ID | RAT_RATSTARS |\n",
    "| --- | --- | --- | --- |\n",
    "| 1 | 2 | 2 | 4 |\n",
    "| 2 | 3 | 4 | 3 |\n",
    "| 3 | 5 | 1 | 5 |\n",
    "| 4 | 1 | 3 | 2 |\n",
    "| 5 | 4 | 5 | 4 |"
   ]
  },
  {
   "cell_type": "code",
   "execution_count": 16,
   "id": "6d5f1e18",
   "metadata": {
    "id": "6d5f1e18"
   },
   "outputs": [],
   "source": [
    "# insert into \"rating\" table\n",
    "\n",
    "# Insert rating details\n",
    "insert_rating_details = \"\"\"\n",
    "INSERT INTO rating (RAT_ID, CUS_ID, SUPP_ID, RAT_RATSTARS) \n",
    "VALUES (%s, %s, %s, %s)\n",
    "\"\"\"\n",
    "\n",
    "val = [\n",
    "    (1, 2, 2, 4),\n",
    "    (2, 3, 4, 3),\n",
    "    (3, 5, 1, 5),\n",
    "    (4, 1, 3, 2),\n",
    "    (5, 4, 5, 4)\n",
    "]\n",
    "\n",
    "with connection.cursor() as cursor:\n",
    "    cursor.executemany(insert_rating_details, val)\n",
    "\n",
    "# Committing the changes\n",
    "connection.commit()"
   ]
  },
  {
   "cell_type": "markdown",
   "id": "b59361c3",
   "metadata": {
    "id": "b59361c3"
   },
   "source": [
    "### Q3) Display the number of the customer group by their genders who have placed any order of amount greater than or equal to Rs.3000."
   ]
  },
  {
   "cell_type": "code",
   "execution_count": 17,
   "id": "fcafaf3c",
   "metadata": {
    "id": "fcafaf3c"
   },
   "outputs": [
    {
     "name": "stdout",
     "output_type": "stream",
     "text": [
      "Customer count grouped by gender (orders >= 3000):\n",
      "Gender: M, Count: 1\n",
      "Gender: F, Count: 1\n",
      "\n",
      "Pandas DataFrame:\n",
      "  Cust_Gender  Count\n",
      "0           M      1\n",
      "1           F      1\n"
     ]
    }
   ],
   "source": [
    "# Q3 Query to display the number of customers grouped by their gender who have placed any order of amount greater than or equal to Rs.3000\n",
    "\n",
    "# SQL query to fetch the required data\n",
    "query = \"\"\"\n",
    "SELECT c.CUS_GENDER, COUNT(*) AS num_customers\n",
    "FROM customer c\n",
    "JOIN orders o ON c.CUS_ID = o.CUS_ID\n",
    "WHERE o.ORD_AMOUNT >= 3000\n",
    "GROUP BY c.CUS_GENDER;\n",
    "\"\"\"\n",
    "\n",
    "# Execute the query\n",
    "with connection.cursor() as cursor:\n",
    "    cursor.execute(query)\n",
    "    result = cursor.fetchall()\n",
    "\n",
    "# Print the result using regular print\n",
    "print(\"Customer count grouped by gender (orders >= 3000):\")\n",
    "for row in result:\n",
    "    print(f\"Gender: {row[0]}, Count: {row[1]}\")\n",
    "\n",
    "# Convert the result to a pandas DataFrame and display it\n",
    "df = pd.DataFrame(result, columns=['Cust_Gender', 'Count'])\n",
    "print(\"\\nPandas DataFrame:\")\n",
    "print(df)"
   ]
  },
  {
   "cell_type": "markdown",
   "id": "e49e04f5",
   "metadata": {
    "id": "e49e04f5"
   },
   "source": [
    "### Q4) Display all the order along with product name ordered by a customer having Customer_Id=2;"
   ]
  },
  {
   "cell_type": "code",
   "execution_count": 18,
   "id": "9dcb7883",
   "metadata": {
    "id": "9dcb7883"
   },
   "outputs": [
    {
     "name": "stdout",
     "output_type": "stream",
     "text": [
      "Orders along with product name for customer with Customer_Id=2:\n",
      "Order ID: 50, Amount: 2000, Date: 2021-10-06, Product Name: 2\n",
      "\n",
      "Pandas DataFrame:\n",
      "   Order ID  Amount        Date  Cust ID  Prod ID Product Name\n",
      "0        50    2000  2021-10-06        2        1        GTA V\n"
     ]
    }
   ],
   "source": [
    "# Q4 Query to display all the order along with product name ordered by a customer having Customer_Id=2;\n",
    "\n",
    "# Query to fetch all orders along with product name for a customer with Customer_Id=2\n",
    "query = \"\"\"\n",
    "SELECT o.ORD_ID, o.ORD_AMOUNT, o.ORD_DATE, o.cus_id, p.pro_id, p.PRO_NAME\n",
    "FROM orders o\n",
    "JOIN product_details pd ON o.PROD_ID = pd.PROD_ID\n",
    "JOIN product p ON pd.PRO_ID = p.PRO_ID\n",
    "WHERE o.CUS_ID = 2;\n",
    "\"\"\"\n",
    "\n",
    "# Execute the query\n",
    "with connection.cursor() as cursor:\n",
    "    cursor.execute(query)\n",
    "    result = cursor.fetchall()\n",
    "\n",
    "# Print the result using regular print\n",
    "print(\"Orders along with product name for customer with Customer_Id=2:\")\n",
    "for row in result:\n",
    "    print(f\"Order ID: {row[0]}, Amount: {row[1]}, Date: {row[2]}, Product Name: {row[3]}\")\n",
    "\n",
    "# Convert the result to a pandas DataFrame and display it\n",
    "df = pd.DataFrame(result, columns=['Order ID', 'Amount', 'Date', 'Cust ID', 'Prod ID', 'Product Name'])\n",
    "print(\"\\nPandas DataFrame:\")\n",
    "print(df)"
   ]
  },
  {
   "cell_type": "markdown",
   "id": "3a33398e",
   "metadata": {
    "id": "3a33398e"
   },
   "source": [
    "### Q5) Display the Supplier details who can supply more than one product."
   ]
  },
  {
   "cell_type": "code",
   "execution_count": 19,
   "id": "e933b979",
   "metadata": {
    "id": "e933b979"
   },
   "outputs": [
    {
     "name": "stdout",
     "output_type": "stream",
     "text": [
      "Supplier details who can supply more than one product:\n",
      "Supplier ID: 1, Name: Rajesh Retails, City: Delhi, Phone: 1234567890\n",
      "\n",
      "Pandas DataFrame:\n",
      "   Supplier ID            Name   City       Phone\n",
      "0            1  Rajesh Retails  Delhi  1234567890\n"
     ]
    }
   ],
   "source": [
    "# Q5 Display the Supplier details who can supply more than one product.\n",
    "\n",
    "# Query to fetch supplier details who can supply more than one product\n",
    "query = \"\"\"\n",
    "SELECT s.SUPP_ID, s.SUPP_NAME, s.SUPP_CITY, s.SUPP_PHONE\n",
    "FROM supplier s\n",
    "JOIN product_details pd ON s.SUPP_ID = pd.SUPP_ID\n",
    "GROUP BY s.SUPP_ID, s.SUPP_NAME, s.SUPP_CITY, s.SUPP_PHONE\n",
    "HAVING COUNT(pd.PRO_ID) > 1;\n",
    "\"\"\"\n",
    "\n",
    "# Execute the query\n",
    "with connection.cursor() as cursor:\n",
    "    cursor.execute(query)\n",
    "    result = cursor.fetchall()\n",
    "\n",
    "# Print the result using regular print\n",
    "print(\"Supplier details who can supply more than one product:\")\n",
    "for row in result:\n",
    "    print(f\"Supplier ID: {row[0]}, Name: {row[1]}, City: {row[2]}, Phone: {row[3]}\")\n",
    "\n",
    "# Convert the result to a pandas DataFrame and display it\n",
    "df = pd.DataFrame(result, columns=['Supplier ID', 'Name', 'City', 'Phone'])\n",
    "print(\"\\nPandas DataFrame:\")\n",
    "print(df)"
   ]
  },
  {
   "cell_type": "markdown",
   "id": "5fd319ef",
   "metadata": {
    "id": "5fd319ef"
   },
   "source": [
    "### Q6) Find the category of the product whose order amount is minimum."
   ]
  },
  {
   "cell_type": "code",
   "execution_count": 20,
   "id": "06f5cb51",
   "metadata": {
    "id": "06f5cb51"
   },
   "outputs": [
    {
     "name": "stdout",
     "output_type": "stream",
     "text": [
      "Category ID and category name of the product with the minimum order amount:\n",
      "Category ID: 3, Category Name: GROCERIES\n",
      "\n",
      "Pandas DataFrame:\n",
      "   Category ID Category Name\n",
      "0            3     GROCERIES\n"
     ]
    }
   ],
   "source": [
    "# Q6 Find the category of the product whose order amount is minimum.\n",
    "\n",
    "# Query to fetch the category id and category name of the product with the minimum order amount\n",
    "query = \"\"\"\n",
    "SELECT c.CAT_ID, c.CAT_NAME\n",
    "FROM orders o\n",
    "JOIN product_details pd ON o.PROD_ID = pd.PROD_ID\n",
    "JOIN product p ON pd.PRO_ID = p.PRO_ID\n",
    "JOIN category c ON p.CAT_ID = c.CAT_ID\n",
    "ORDER BY o.ORD_AMOUNT ASC\n",
    "LIMIT 1;\n",
    "\"\"\"\n",
    "\n",
    "# Execute the query\n",
    "with connection.cursor() as cursor:\n",
    "    cursor.execute(query)\n",
    "    result = cursor.fetchall()\n",
    "\n",
    "# Print the result using regular print\n",
    "print(\"Category ID and category name of the product with the minimum order amount:\")\n",
    "for row in result:\n",
    "    print(f\"Category ID: {row[0]}, Category Name: {row[1]}\")\n",
    "\n",
    "# Convert the result to a pandas DataFrame and display it\n",
    "df = pd.DataFrame(result, columns=['Category ID', 'Category Name'])\n",
    "print(\"\\nPandas DataFrame:\")\n",
    "print(df)"
   ]
  },
  {
   "cell_type": "markdown",
   "id": "107102d4",
   "metadata": {
    "id": "107102d4"
   },
   "source": [
    "### Q7) Display the Id and Name of the Product ordered after “2021-10-05”."
   ]
  },
  {
   "cell_type": "code",
   "execution_count": 21,
   "id": "5d3fc7e8",
   "metadata": {
    "id": "5d3fc7e8"
   },
   "outputs": [
    {
     "name": "stdout",
     "output_type": "stream",
     "text": [
      "ID and Name of the Product ordered after 2021-10-05:\n",
      "Product ID: 4, Product Name: OATS\n",
      "Product ID: 1, Product Name: GTA V\n",
      "\n",
      "Pandas DataFrame:\n",
      "   Product ID Product Name\n",
      "0           4         OATS\n",
      "1           1        GTA V\n"
     ]
    }
   ],
   "source": [
    "# Q7 Display the Id and Name of the Product ordered after “2021-10-05”.\n",
    "\n",
    "# Query to fetch the ID and Name of the product ordered after \"2021-10-05\"\n",
    "query = \"\"\"\n",
    "SELECT p.PRO_ID, p.PRO_NAME\n",
    "FROM orders o\n",
    "JOIN product_details pd ON o.PROD_ID = pd.PROD_ID\n",
    "JOIN product p ON pd.PRO_ID = p.PRO_ID\n",
    "WHERE o.ORD_DATE > '2021-10-05';\n",
    "\"\"\"\n",
    "\n",
    "# Execute the query\n",
    "with connection.cursor() as cursor:\n",
    "    cursor.execute(query)\n",
    "    result = cursor.fetchall()\n",
    "\n",
    "# Print the result using regular print\n",
    "print(\"ID and Name of the Product ordered after 2021-10-05:\")\n",
    "for row in result:\n",
    "    print(f\"Product ID: {row[0]}, Product Name: {row[1]}\")\n",
    "\n",
    "# Convert the result to a pandas DataFrame and display it\n",
    "df = pd.DataFrame(result, columns=['Product ID', 'Product Name'])\n",
    "print(\"\\nPandas DataFrame:\")\n",
    "print(df)"
   ]
  },
  {
   "cell_type": "markdown",
   "id": "bdce7167",
   "metadata": {
    "id": "bdce7167"
   },
   "source": [
    "### Q8) Print the top 3 supplier name and id and rating on the basis of their rating along with the customer name who has given the rating."
   ]
  },
  {
   "cell_type": "code",
   "execution_count": 22,
   "id": "fa0cbe44",
   "metadata": {
    "id": "fa0cbe44"
   },
   "outputs": [
    {
     "name": "stdout",
     "output_type": "stream",
     "text": [
      "Top 3 supplier names and IDs, ratings, and the customer name and ID who has given the rating:\n",
      "Supplier ID: 1, Supplier Name: Rajesh Retails, Rating: 5, Customer ID: 5, Customer Name: PULKIT\n",
      "Supplier ID: 2, Supplier Name: Appario Ltd., Rating: 4, Customer ID: 2, Customer Name: AMAN\n",
      "Supplier ID: 5, Supplier Name: Mittal Ltd., Rating: 4, Customer ID: 4, Customer Name: MEGHA\n",
      "\n",
      "Pandas DataFrame:\n",
      "   Supplier ID   Supplier Name  Rating  Customer ID Customer Name\n",
      "0            1  Rajesh Retails       5            5        PULKIT\n",
      "1            2    Appario Ltd.       4            2          AMAN\n",
      "2            5     Mittal Ltd.       4            4         MEGHA\n"
     ]
    }
   ],
   "source": [
    "# Q8 Print the top 3 supplier name and id and rating on the basis of their rating along with the customer name who has given the rating.¶\n",
    "\n",
    "# Query to fetch the top 3 supplier names and IDs, ratings, and the customer name and ID who has given the rating\n",
    "query = \"\"\"\n",
    "SELECT s.SUPP_ID, s.SUPP_NAME, r.RAT_RATSTARS, c.CUS_ID, c.CUS_NAME\n",
    "FROM rating r\n",
    "JOIN supplier s ON r.SUPP_ID = s.SUPP_ID\n",
    "JOIN customer c ON r.CUS_ID = c.CUS_ID\n",
    "ORDER BY r.RAT_RATSTARS DESC\n",
    "LIMIT 3;\n",
    "\"\"\"\n",
    "\n",
    "# Execute the query\n",
    "with connection.cursor() as cursor:\n",
    "    cursor.execute(query)\n",
    "    result = cursor.fetchall()\n",
    "\n",
    "# Print the result using regular print\n",
    "print(\"Top 3 supplier names and IDs, ratings, and the customer name and ID who has given the rating:\")\n",
    "for row in result:\n",
    "    print(f\"Supplier ID: {row[0]}, Supplier Name: {row[1]}, Rating: {row[2]}, Customer ID: {row[3]}, Customer Name: {row[4]}\")\n",
    "\n",
    "# Convert the result to a pandas DataFrame and display it\n",
    "df = pd.DataFrame(result, columns=['Supplier ID', 'Supplier Name', 'Rating', 'Customer ID', 'Customer Name'])\n",
    "print(\"\\nPandas DataFrame:\")\n",
    "print(df)"
   ]
  },
  {
   "cell_type": "markdown",
   "id": "346ec2a1",
   "metadata": {
    "id": "346ec2a1"
   },
   "source": [
    "### Q9) Display customer name and gender whose names start or end with character 'A'."
   ]
  },
  {
   "cell_type": "code",
   "execution_count": 23,
   "id": "e571b5fd",
   "metadata": {
    "id": "e571b5fd"
   },
   "outputs": [
    {
     "name": "stdout",
     "output_type": "stream",
     "text": [
      "Customer ID, customer name, and gender for customers whose names start or end with 'A':\n",
      "Customer ID: 1, Customer Name: AAKASH, Gender: M\n",
      "Customer ID: 2, Customer Name: AMAN, Gender: M\n",
      "Customer ID: 3, Customer Name: NEHA, Gender: F\n",
      "Customer ID: 4, Customer Name: MEGHA, Gender: F\n",
      "\n",
      "Pandas DataFrame:\n",
      "   Customer ID Customer Name Gender\n",
      "0            1        AAKASH      M\n",
      "1            2          AMAN      M\n",
      "2            3          NEHA      F\n",
      "3            4         MEGHA      F\n"
     ]
    }
   ],
   "source": [
    "# Q9 Display customer name and gender whose names start or end with character 'A'\n",
    "\n",
    "# Query to fetch customer ID, customer name, and gender for customers whose names start or end with 'A'\n",
    "query = \"\"\"\n",
    "SELECT CUS_ID, CUS_NAME, CUS_GENDER\n",
    "FROM customer\n",
    "WHERE CUS_NAME LIKE 'A%' OR CUS_NAME LIKE '%A';\n",
    "\"\"\"\n",
    "\n",
    "# Execute the query\n",
    "with connection.cursor() as cursor:\n",
    "    cursor.execute(query)\n",
    "    result = cursor.fetchall()\n",
    "\n",
    "# Print the result using regular print\n",
    "print(\"Customer ID, customer name, and gender for customers whose names start or end with 'A':\")\n",
    "for row in result:\n",
    "    print(f\"Customer ID: {row[0]}, Customer Name: {row[1]}, Gender: {row[2]}\")\n",
    "\n",
    "# Convert the result to a pandas DataFrame and display it\n",
    "df = pd.DataFrame(result, columns=['Customer ID', 'Customer Name', 'Gender'])\n",
    "print(\"\\nPandas DataFrame:\")\n",
    "print(df)"
   ]
  },
  {
   "cell_type": "markdown",
   "id": "d0b01f77",
   "metadata": {
    "id": "d0b01f77"
   },
   "source": [
    "### Q10) Display the total order amount of the male customers."
   ]
  },
  {
   "cell_type": "code",
   "execution_count": 24,
   "id": "c3fa76e3",
   "metadata": {
    "id": "c3fa76e3"
   },
   "outputs": [
    {
     "name": "stdout",
     "output_type": "stream",
     "text": [
      "Total order amount and number of orders of male customers:\n",
      "Total Order Amount: 34500, Number of Orders: 3\n",
      "\n",
      "Pandas DataFrame:\n",
      "  Total Order Amount  Number of Orders\n",
      "0              34500                 3\n"
     ]
    }
   ],
   "source": [
    "# Q10 Display the total order amount of the male customers.\n",
    "\n",
    "# Query to fetch the total order amount of male customers\n",
    "\n",
    "query = \"\"\"\n",
    "SELECT SUM(o.ORD_AMOUNT) AS Total_Order_Amount, COUNT(o.ORD_ID) AS Number_of_Orders\n",
    "FROM orders o\n",
    "JOIN customer c ON o.CUS_ID = c.CUS_ID\n",
    "WHERE c.CUS_GENDER = 'M';\n",
    "\"\"\"\n",
    "\n",
    "# Execute the query\n",
    "with connection.cursor() as cursor:\n",
    "    cursor.execute(query)\n",
    "    result = cursor.fetchall()\n",
    "\n",
    "# Print the result using regular print\n",
    "print(\"Total order amount and number of orders of male customers:\")\n",
    "for row in result:\n",
    "    print(f\"Total Order Amount: {row[0]}, Number of Orders: {row[1]}\")\n",
    "\n",
    "# Convert the result to a pandas DataFrame and display it\n",
    "import pandas as pd\n",
    "df = pd.DataFrame(result, columns=['Total Order Amount', 'Number of Orders'])\n",
    "print(\"\\nPandas DataFrame:\")\n",
    "print(df)"
   ]
  },
  {
   "cell_type": "markdown",
   "id": "ff8a9971",
   "metadata": {
    "id": "ff8a9971"
   },
   "source": [
    "### Q11) Display all the Customers left outer join with  the orders"
   ]
  },
  {
   "cell_type": "code",
   "execution_count": 27,
   "id": "a340c6d6",
   "metadata": {
    "id": "a340c6d6"
   },
   "outputs": [
    {
     "name": "stdout",
     "output_type": "stream",
     "text": [
      "Customers with left outer join on orders (Order ID, Order Amount, Order Date, Customer ID, Customer Name, Product ID, Product Name):\n",
      "Order ID: 26, Order Amount: 2000, Order Date: 2021-10-05, Customer ID: 1, Customer Name: AAKASH, Product ID: 1, Product Name: GTA V\n",
      "Order ID: 50, Order Amount: 2000, Order Date: 2021-10-06, Customer ID: 2, Customer Name: AMAN, Product ID: 1, Product Name: GTA V\n",
      "Order ID: 20, Order Amount: 1500, Order Date: 2021-10-12, Customer ID: 3, Customer Name: NEHA, Product ID: 5, Product Name: OATS\n",
      "Order ID: 30, Order Amount: 3500, Order Date: 2021-08-16, Customer ID: 4, Customer Name: MEGHA, Product ID: 3, Product Name: HARRY POTTER\n",
      "Order ID: 25, Order Amount: 30500, Order Date: 2021-09-16, Customer ID: 5, Customer Name: PULKIT, Product ID: 2, Product Name: ROG LAPTOP\n",
      "\n",
      "Pandas DataFrame:\n",
      "   ORD_ID  ORD_AMOUNT    ORD_DATE  CUS_ID CUS_NAME  PROD_ID      PRO_NAME\n",
      "0      26        2000  2021-10-05       1   AAKASH        1         GTA V\n",
      "1      50        2000  2021-10-06       2     AMAN        1         GTA V\n",
      "2      20        1500  2021-10-12       3     NEHA        5          OATS\n",
      "3      30        3500  2021-08-16       4    MEGHA        3  HARRY POTTER\n",
      "4      25       30500  2021-09-16       5   PULKIT        2    ROG LAPTOP\n"
     ]
    }
   ],
   "source": [
    "#Q11 Display all the Customers left outer join with the orders\n",
    "\n",
    "# Query to perform a left outer join between customers and orders, displaying the necessary columns\n",
    "query = \"\"\"\n",
    "SELECT o.ORD_ID, o.ORD_AMOUNT, o.ORD_DATE, o.CUS_ID, c.CUS_NAME, o.PROD_ID, p.PRO_NAME\n",
    "FROM customer c\n",
    "LEFT JOIN orders o ON c.CUS_ID = o.CUS_ID\n",
    "LEFT JOIN product_details pd ON o.PROD_ID = pd.PROD_ID\n",
    "LEFT JOIN product p ON pd.PRO_ID = p.PRO_ID;\n",
    "\"\"\"\n",
    "\n",
    "# Execute the query\n",
    "with connection.cursor() as cursor:\n",
    "    cursor.execute(query)\n",
    "    result = cursor.fetchall()\n",
    "\n",
    "# Print the result using regular print\n",
    "print(\"Customers with left outer join on orders (Order ID, Order Amount, Order Date, Customer ID, Customer Name, Product ID, Product Name):\")\n",
    "for row in result:\n",
    "    print(f\"Order ID: {row[0]}, Order Amount: {row[1]}, Order Date: {row[2]}, Customer ID: {row[3]}, Customer Name: {row[4]}, Product ID: {row[5]}, Product Name: {row[6]}\")\n",
    "\n",
    "# Convert the result to a pandas DataFrame and display it\n",
    "import pandas as pd\n",
    "df = pd.DataFrame(result, columns=['ORD_ID', 'ORD_AMOUNT', 'ORD_DATE', 'CUS_ID', 'CUS_NAME', 'PROD_ID', 'PRO_NAME'])\n",
    "print(\"\\nPandas DataFrame:\")\n",
    "print(df)"
   ]
  },
  {
   "cell_type": "markdown",
   "id": "0a72afe3",
   "metadata": {
    "id": "0a72afe3"
   },
   "source": [
    "**NOTE:** Always close an open connection once you are done with the database operations"
   ]
  },
  {
   "cell_type": "code",
   "execution_count": 28,
   "id": "f6e84b68-4213-49d9-baf1-1712a42283ac",
   "metadata": {},
   "outputs": [],
   "source": [
    "#close an open connection once you are done with the database operations\n",
    "\n",
    "# Close the connection\n",
    "connection.close()"
   ]
  },
  {
   "cell_type": "markdown",
   "id": "8c88f479",
   "metadata": {
    "id": "8c88f479"
   },
   "source": [
    "## Happy Learning:)"
   ]
  }
 ],
 "metadata": {
  "colab": {
   "provenance": []
  },
  "kernelspec": {
   "display_name": "Python 3 (ipykernel)",
   "language": "python",
   "name": "python3"
  },
  "language_info": {
   "codemirror_mode": {
    "name": "ipython",
    "version": 3
   },
   "file_extension": ".py",
   "mimetype": "text/x-python",
   "name": "python",
   "nbconvert_exporter": "python",
   "pygments_lexer": "ipython3",
   "version": "3.11.7"
  }
 },
 "nbformat": 4,
 "nbformat_minor": 5
}
